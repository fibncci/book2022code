{
 "cells": [
  {
   "cell_type": "code",
   "execution_count": 104,
   "metadata": {},
   "outputs": [
    {
     "name": "stdout",
     "output_type": "stream",
     "text": [
      "Reply from 104.193.88.123, 29 bytes in 149.99ms\r\n",
      "Reply from 104.193.88.123, 29 bytes in 149.65ms\r\n",
      "Request timed out\r\n",
      "Reply from 104.193.88.123, 29 bytes in 150.2ms\r\n",
      "\r\n",
      "Round Trip Times min/avg/max is 149.65/612.46/2000 ms\n",
      "612.79\n"
     ]
    }
   ],
   "source": [
    "# ping：1、显示网络的延时情况\n",
    "\n",
    "from pythonping import ping\n",
    "reps = ping('104.193.88.123') # ping('www.baidu.com')\n",
    "print(responses)\n",
    "print(reps.rtt_avg_ms) # 网络延时，responses反应"
   ]
  },
  {
   "cell_type": "code",
   "execution_count": 108,
   "metadata": {},
   "outputs": [
    {
     "name": "stdout",
     "output_type": "stream",
     "text": [
      "192.168.28.2 can't reached\n",
      "192.168.28.3 can't reached\n",
      "192.168.28.4 can't reached\n"
     ]
    }
   ],
   "source": [
    "from pythonping import ping\n",
    "import time\n",
    "\n",
    "for ip3 in range(28,29):\n",
    "    for ip4 in range(2,5):\n",
    "        ip = '192.168.' + str(ip3) +'.' +  str(ip4)\n",
    "        result = ping(ip)\n",
    "        if 'Reply' in str(result):\n",
    "            with open('reachable.txt','a+') as R: # R = file \n",
    "                R.write(ip + '\\n')\n",
    "                print(ip + ' is reachable ')\n",
    "                time.sleep(0.1)\n",
    "        else: # if 'timed out' in str(result):\n",
    "            with open('unreached.txt','a+') as R:\n",
    "                R.write(ip + '\\n')\n",
    "                print(ip + \" can't reached\")\n",
    "                time.sleep(0.1)\n",
    "\n",
    "# for i in range(11,17):\n",
    "#     ip = '192.168.11.' + str(i)\n",
    "#     result = ping(ip)\n",
    "#     if 'Reply' in str(result):\n",
    "#         print(ip + '可达')\n",
    "#     else: print(ip + '不可达')\n",
    "\n"
   ]
  },
  {
   "cell_type": "code",
   "execution_count": null,
   "metadata": {},
   "outputs": [],
   "source": []
  },
  {
   "cell_type": "code",
   "execution_count": null,
   "metadata": {},
   "outputs": [],
   "source": []
  },
  {
   "cell_type": "code",
   "execution_count": 29,
   "metadata": {},
   "outputs": [],
   "source": []
  },
  {
   "cell_type": "code",
   "execution_count": null,
   "metadata": {},
   "outputs": [],
   "source": []
  },
  {
   "cell_type": "code",
   "execution_count": null,
   "metadata": {},
   "outputs": [],
   "source": []
  },
  {
   "cell_type": "code",
   "execution_count": null,
   "metadata": {},
   "outputs": [],
   "source": []
  },
  {
   "cell_type": "code",
   "execution_count": null,
   "metadata": {},
   "outputs": [],
   "source": []
  },
  {
   "cell_type": "code",
   "execution_count": null,
   "metadata": {},
   "outputs": [],
   "source": []
  },
  {
   "cell_type": "code",
   "execution_count": null,
   "metadata": {},
   "outputs": [],
   "source": [
    "\n",
    "\n"
   ]
  },
  {
   "cell_type": "code",
   "execution_count": null,
   "metadata": {},
   "outputs": [],
   "source": []
  },
  {
   "cell_type": "code",
   "execution_count": null,
   "metadata": {},
   "outputs": [],
   "source": []
  },
  {
   "cell_type": "code",
   "execution_count": 113,
   "metadata": {},
   "outputs": [
    {
     "name": "stdout",
     "output_type": "stream",
     "text": [
      "192.168.28.210不可达\n",
      "192.168.28.211可达\n"
     ]
    },
    {
     "data": {
      "text/plain": [
       "True"
      ]
     },
     "execution_count": 113,
     "metadata": {},
     "output_type": "execute_result"
    }
   ],
   "source": [
    "for i in range(210,212):\n",
    "    ip = '192.168.28.' + str(i)\n",
    "    result = ping(ip)\n",
    "    if 'Reply' in str(result):\n",
    "        print(ip + '可达')\n",
    "    else: print(ip + '不可达')\n",
    "# 返回值： True\n",
    "'Reply' in str(result)"
   ]
  },
  {
   "cell_type": "code",
   "execution_count": null,
   "metadata": {},
   "outputs": [],
   "source": []
  },
  {
   "cell_type": "code",
   "execution_count": null,
   "metadata": {},
   "outputs": [],
   "source": []
  },
  {
   "cell_type": "code",
   "execution_count": null,
   "metadata": {},
   "outputs": [],
   "source": [
    "\n",
    "\n",
    "            "
   ]
  },
  {
   "cell_type": "code",
   "execution_count": null,
   "metadata": {},
   "outputs": [],
   "source": [
    "\n"
   ]
  },
  {
   "cell_type": "code",
   "execution_count": null,
   "metadata": {},
   "outputs": [],
   "source": []
  },
  {
   "cell_type": "code",
   "execution_count": null,
   "metadata": {},
   "outputs": [],
   "source": []
  },
  {
   "cell_type": "code",
   "execution_count": 114,
   "metadata": {},
   "outputs": [
    {
     "data": {
      "text/plain": [
       "'192.168.28.211\\n192.168.28.1\\n192.168.28.9\\n192.168.28.33\\n192.168.28.50\\n192.168.28.56\\n192.168.28.1\\n192.168.28.9\\n192.168.28.33\\n192.168.28.50\\n192.168.28.56\\n192.168.28.109\\n192.168.28.131\\n192.168.28.142\\n192.168.28.151\\n192.168.28.153\\n192.168.28.157\\n192.168.28.211\\n192.168.28.220\\n192.168.28.1\\n192.168.28.1\\n'"
      ]
     },
     "execution_count": 114,
     "metadata": {},
     "output_type": "execute_result"
    }
   ],
   "source": [
    "file = open(\"reachable.txt\")\n",
    "data = file.read() # 读取文件\n",
    "file.close()\n",
    "data"
   ]
  },
  {
   "cell_type": "code",
   "execution_count": 64,
   "metadata": {},
   "outputs": [
    {
     "data": {
      "text/plain": [
       "<_io.TextIOWrapper name='reachable.txt' mode='r' encoding='cp936'>"
      ]
     },
     "execution_count": 64,
     "metadata": {},
     "output_type": "execute_result"
    }
   ],
   "source": [
    "file"
   ]
  },
  {
   "cell_type": "code",
   "execution_count": 115,
   "metadata": {},
   "outputs": [
    {
     "data": {
      "text/plain": [
       "'192.168.28.211\\n192.168.28.1\\n192.168.28.9\\n192.168.28.33\\n192.168.28.50\\n192.168.28.56\\n192.168.28.1\\n192.168.28.9\\n192.168.28.33\\n192.168.28.50\\n192.168.28.56\\n192.168.28.109\\n192.168.28.131\\n192.168.28.142\\n192.168.28.151\\n192.168.28.153\\n192.168.28.157\\n192.168.28.211\\n192.168.28.220\\n192.168.28.1\\n192.168.28.1\\n'"
      ]
     },
     "execution_count": 115,
     "metadata": {},
     "output_type": "execute_result"
    }
   ],
   "source": [
    "# 加强版本 ： 一是可能忘记关闭文件句柄；二是文件读取数据发生异常\n",
    "file = open(\"reachable.txt\")\n",
    "try:\n",
    "    data = file.read()\n",
    "finally:\n",
    "    file.close()\n",
    "data"
   ]
  },
  {
   "cell_type": "code",
   "execution_count": 81,
   "metadata": {},
   "outputs": [
    {
     "name": "stdout",
     "output_type": "stream",
     "text": [
      "192.168.28.211 is reachable \n"
     ]
    }
   ],
   "source": [
    "# 上面的简洁版本\n",
    "file = open(\"reachable.txt\",'a+')\n",
    "with file as file:\n",
    "    file.write(ip + '\\n')\n",
    "    print(ip + ' is reachable ')"
   ]
  },
  {
   "cell_type": "code",
   "execution_count": null,
   "metadata": {},
   "outputs": [],
   "source": [
    "\n"
   ]
  },
  {
   "cell_type": "code",
   "execution_count": null,
   "metadata": {},
   "outputs": [],
   "source": []
  },
  {
   "cell_type": "code",
   "execution_count": null,
   "metadata": {},
   "outputs": [],
   "source": []
  },
  {
   "cell_type": "code",
   "execution_count": null,
   "metadata": {},
   "outputs": [],
   "source": []
  },
  {
   "cell_type": "code",
   "execution_count": null,
   "metadata": {},
   "outputs": [],
   "source": []
  },
  {
   "cell_type": "code",
   "execution_count": null,
   "metadata": {},
   "outputs": [],
   "source": []
  },
  {
   "cell_type": "code",
   "execution_count": null,
   "metadata": {},
   "outputs": [],
   "source": []
  },
  {
   "cell_type": "code",
   "execution_count": null,
   "metadata": {},
   "outputs": [],
   "source": []
  },
  {
   "cell_type": "code",
   "execution_count": null,
   "metadata": {},
   "outputs": [],
   "source": []
  },
  {
   "cell_type": "code",
   "execution_count": null,
   "metadata": {},
   "outputs": [],
   "source": []
  },
  {
   "cell_type": "code",
   "execution_count": null,
   "metadata": {},
   "outputs": [],
   "source": []
  },
  {
   "cell_type": "code",
   "execution_count": null,
   "metadata": {},
   "outputs": [],
   "source": []
  },
  {
   "cell_type": "code",
   "execution_count": null,
   "metadata": {},
   "outputs": [],
   "source": []
  },
  {
   "cell_type": "code",
   "execution_count": null,
   "metadata": {},
   "outputs": [],
   "source": []
  },
  {
   "cell_type": "code",
   "execution_count": null,
   "metadata": {},
   "outputs": [],
   "source": []
  },
  {
   "cell_type": "code",
   "execution_count": null,
   "metadata": {},
   "outputs": [],
   "source": []
  },
  {
   "cell_type": "code",
   "execution_count": null,
   "metadata": {},
   "outputs": [],
   "source": []
  },
  {
   "cell_type": "code",
   "execution_count": null,
   "metadata": {},
   "outputs": [],
   "source": []
  },
  {
   "cell_type": "code",
   "execution_count": null,
   "metadata": {},
   "outputs": [],
   "source": []
  },
  {
   "cell_type": "code",
   "execution_count": null,
   "metadata": {},
   "outputs": [],
   "source": []
  },
  {
   "cell_type": "code",
   "execution_count": null,
   "metadata": {},
   "outputs": [],
   "source": []
  },
  {
   "cell_type": "code",
   "execution_count": null,
   "metadata": {},
   "outputs": [],
   "source": []
  },
  {
   "cell_type": "code",
   "execution_count": null,
   "metadata": {},
   "outputs": [],
   "source": []
  },
  {
   "cell_type": "code",
   "execution_count": null,
   "metadata": {},
   "outputs": [],
   "source": []
  },
  {
   "cell_type": "code",
   "execution_count": null,
   "metadata": {},
   "outputs": [],
   "source": []
  },
  {
   "cell_type": "code",
   "execution_count": null,
   "metadata": {},
   "outputs": [],
   "source": []
  }
 ],
 "metadata": {
  "kernelspec": {
   "display_name": "Python 3",
   "language": "python",
   "name": "python3"
  },
  "language_info": {
   "codemirror_mode": {
    "name": "ipython",
    "version": 3
   },
   "file_extension": ".py",
   "mimetype": "text/x-python",
   "name": "python",
   "nbconvert_exporter": "python",
   "pygments_lexer": "ipython3",
   "version": "3.8.5"
  }
 },
 "nbformat": 4,
 "nbformat_minor": 4
}
